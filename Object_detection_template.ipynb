{
 "cells": [
  {
   "cell_type": "code",
   "execution_count": null,
   "metadata": {},
   "outputs": [],
   "source": [
    "import torch\n",
    "import torch.nn as nn\n",
    "import torch.nn.functional as F\n",
    "import torch.optim as optim\n",
    "from torchvision import transforms\n",
    "import matplotlib.pyplot as plt\n",
    "from math import ceil, floor\n",
    "from datetime import datetime \n",
    "from dataclasses import dataclass\n",
    "from torchvision import datasets, transforms\n",
    "from torch.utils.data import Dataset, TensorDataset, DataLoader\n",
    "from src.models.localization.cnn_localizer import CNNLocalizer\n",
    "from src.util.loss_funcs import localization_loss\n",
    "import seaborn as sns\n",
    "from src.util.transform_dataset import TransformDataset, get_transform"
   ]
  },
  {
   "cell_type": "markdown",
   "metadata": {},
   "source": [
    "# Detection"
   ]
  },
  {
   "cell_type": "code",
   "execution_count": 47,
   "metadata": {},
   "outputs": [],
   "source": [
    "torch.manual_seed(123)\n",
    "torch.set_default_dtype(torch.float32) # TODO maybe remove\n",
    "batch_size = 128       \n",
    "torch.set_printoptions(profile=\"full\")     "
   ]
  },
  {
   "cell_type": "markdown",
   "metadata": {},
   "source": [
    "### Load data and preprocessing"
   ]
  },
  {
   "cell_type": "code",
   "execution_count": 48,
   "metadata": {},
   "outputs": [],
   "source": [
    "H_in, W_in = 48, 60\n",
    "H_out, W_out = 2, 3\n",
    "CELL_WIDTH, CELL_HEIGHT = W_in / W_out, H_in / H_out\n",
    "\n",
    "def get_cell(x, y):\n",
    "    row = (y * H_in) // (CELL_HEIGHT)\n",
    "    col = (x * W_in) // (CELL_WIDTH)\n",
    "    return int(row), int(col)\n",
    "\n",
    "def convert_Y_label(Y:torch.Tensor):\n",
    "    converted_Y = [[[0,0,0,0,0,0] for _ in range(W_out)] for _ in range(H_out)]\n",
    "\n",
    "    for digit in Y:\n",
    "        p, x, y, w, h, c = digit\n",
    "        row, col = get_cell(x.item(), y.item())\n",
    "\n",
    "        x = ((x * W_in) - col * CELL_WIDTH) / (CELL_WIDTH)\n",
    "        y = ((y * H_in) - row * CELL_HEIGHT) / (CELL_HEIGHT)\n",
    "        w *= W_out\n",
    "        h *= H_out\n",
    "         \n",
    "        converted_Y[row][col] = [p, x, y, w, h, c]\n",
    "\n",
    "    return torch.Tensor(converted_Y)"
   ]
  },
  {
   "cell_type": "code",
   "execution_count": null,
   "metadata": {},
   "outputs": [
    {
     "name": "stderr",
     "output_type": "stream",
     "text": [
      "C:\\Users\\krist\\AppData\\Local\\Temp\\ipykernel_6840\\1809610471.py:1: FutureWarning: You are using `torch.load` with `weights_only=False` (the current default value), which uses the default pickle module implicitly. It is possible to construct malicious pickle data which will execute arbitrary code during unpickling (See https://github.com/pytorch/pytorch/blob/main/SECURITY.md#untrusted-models for more details). In a future release, the default value for `weights_only` will be flipped to `True`. This limits the functions that could be executed during unpickling. Arbitrary objects will no longer be allowed to be loaded via this mode unless they are explicitly allowlisted by the user via `torch.serialization.add_safe_globals`. We recommend you start setting `weights_only=True` for any use case where you don't have full control of the loaded file. Please open an issue on GitHub for any issues related to this experimental feature.\n",
      "  train_true = torch.load(\"data/list_y_true_train.pt\")\n",
      "C:\\Users\\krist\\AppData\\Local\\Temp\\ipykernel_6840\\1809610471.py:2: FutureWarning: You are using `torch.load` with `weights_only=False` (the current default value), which uses the default pickle module implicitly. It is possible to construct malicious pickle data which will execute arbitrary code during unpickling (See https://github.com/pytorch/pytorch/blob/main/SECURITY.md#untrusted-models for more details). In a future release, the default value for `weights_only` will be flipped to `True`. This limits the functions that could be executed during unpickling. Arbitrary objects will no longer be allowed to be loaded via this mode unless they are explicitly allowlisted by the user via `torch.serialization.add_safe_globals`. We recommend you start setting `weights_only=True` for any use case where you don't have full control of the loaded file. Please open an issue on GitHub for any issues related to this experimental feature.\n",
      "  val_true = torch.load(\"data/list_y_true_val.pt\")\n",
      "C:\\Users\\krist\\AppData\\Local\\Temp\\ipykernel_6840\\1809610471.py:3: FutureWarning: You are using `torch.load` with `weights_only=False` (the current default value), which uses the default pickle module implicitly. It is possible to construct malicious pickle data which will execute arbitrary code during unpickling (See https://github.com/pytorch/pytorch/blob/main/SECURITY.md#untrusted-models for more details). In a future release, the default value for `weights_only` will be flipped to `True`. This limits the functions that could be executed during unpickling. Arbitrary objects will no longer be allowed to be loaded via this mode unless they are explicitly allowlisted by the user via `torch.serialization.add_safe_globals`. We recommend you start setting `weights_only=True` for any use case where you don't have full control of the loaded file. Please open an issue on GitHub for any issues related to this experimental feature.\n",
      "  test_true = torch.load(\"data/list_y_true_test.pt\")\n",
      "C:\\Users\\krist\\AppData\\Local\\Temp\\ipykernel_6840\\1809610471.py:5: FutureWarning: You are using `torch.load` with `weights_only=False` (the current default value), which uses the default pickle module implicitly. It is possible to construct malicious pickle data which will execute arbitrary code during unpickling (See https://github.com/pytorch/pytorch/blob/main/SECURITY.md#untrusted-models for more details). In a future release, the default value for `weights_only` will be flipped to `True`. This limits the functions that could be executed during unpickling. Arbitrary objects will no longer be allowed to be loaded via this mode unless they are explicitly allowlisted by the user via `torch.serialization.add_safe_globals`. We recommend you start setting `weights_only=True` for any use case where you don't have full control of the loaded file. Please open an issue on GitHub for any issues related to this experimental feature.\n",
      "  train_images = torch.load(\"data/detection_train.pt\").tensors[0]\n",
      "C:\\Users\\krist\\AppData\\Local\\Temp\\ipykernel_6840\\1809610471.py:6: FutureWarning: You are using `torch.load` with `weights_only=False` (the current default value), which uses the default pickle module implicitly. It is possible to construct malicious pickle data which will execute arbitrary code during unpickling (See https://github.com/pytorch/pytorch/blob/main/SECURITY.md#untrusted-models for more details). In a future release, the default value for `weights_only` will be flipped to `True`. This limits the functions that could be executed during unpickling. Arbitrary objects will no longer be allowed to be loaded via this mode unless they are explicitly allowlisted by the user via `torch.serialization.add_safe_globals`. We recommend you start setting `weights_only=True` for any use case where you don't have full control of the loaded file. Please open an issue on GitHub for any issues related to this experimental feature.\n",
      "  val_images = torch.load(\"data/detection_val.pt\").tensors[0]\n",
      "C:\\Users\\krist\\AppData\\Local\\Temp\\ipykernel_6840\\1809610471.py:7: FutureWarning: You are using `torch.load` with `weights_only=False` (the current default value), which uses the default pickle module implicitly. It is possible to construct malicious pickle data which will execute arbitrary code during unpickling (See https://github.com/pytorch/pytorch/blob/main/SECURITY.md#untrusted-models for more details). In a future release, the default value for `weights_only` will be flipped to `True`. This limits the functions that could be executed during unpickling. Arbitrary objects will no longer be allowed to be loaded via this mode unless they are explicitly allowlisted by the user via `torch.serialization.add_safe_globals`. We recommend you start setting `weights_only=True` for any use case where you don't have full control of the loaded file. Please open an issue on GitHub for any issues related to this experimental feature.\n",
      "  test_images = torch.load(\"data/detection_test.pt\").tensors[0]\n"
     ]
    }
   ],
   "source": [
    "train_true = torch.load(\"data/list_y_true_train.pt\")\n",
    "val_true = torch.load(\"data/list_y_true_val.pt\")\n",
    "test_true = torch.load(\"data/list_y_true_test.pt\")\n",
    "\n",
    "train_images = torch.load(\"data/detection_train.pt\").tensors[0]\n",
    "val_images = torch.load(\"data/detection_val.pt\").tensors[0]\n",
    "test_images = torch.load(\"data/detection_test.pt\").tensors[0]\n",
    "\n",
    "\n",
    "converted_data = [torch.zeros(N, H_out, W_out, 6) for N in [len(train_true), len(val_true), len(test_true)]]\n",
    "for i, dataset in enumerate([train_true, val_true, test_true]):\n",
    "    for j in range(len(dataset)):\n",
    "        converted_data[i][j] = convert_Y_label(dataset[j])\n",
    "\n",
    "train_labels, val_labels, test_labels = converted_data\n",
    "\n",
    "transforms = get_transform(train_images)\n",
    "\n",
    "train_loader = DataLoader(TransformDataset(TensorDataset(train_images, train_labels), transforms), batch_size=batch_size, shuffle=False)\n",
    "val_loader = DataLoader(TransformDataset(TensorDataset(val_images, val_labels), transforms), batch_size=batch_size, shuffle=False)\n",
    "test_loader = DataLoader(TransformDataset(TensorDataset(test_images, test_labels), transforms), batch_size=batch_size, shuffle=False)\n"
   ]
  },
  {
   "cell_type": "markdown",
   "metadata": {},
   "source": [
    "### Training"
   ]
  },
  {
   "cell_type": "code",
   "execution_count": null,
   "metadata": {},
   "outputs": [],
   "source": []
  },
  {
   "cell_type": "markdown",
   "metadata": {},
   "source": [
    "### Prediction"
   ]
  },
  {
   "cell_type": "code",
   "execution_count": 52,
   "metadata": {},
   "outputs": [],
   "source": [
    "# TODO"
   ]
  },
  {
   "cell_type": "markdown",
   "metadata": {},
   "source": [
    "### Model selection and evaluation"
   ]
  },
  {
   "cell_type": "code",
   "execution_count": 53,
   "metadata": {},
   "outputs": [],
   "source": [
    "def compute_IoU_detection(model, loader, preprocessor):\n",
    "    \"\"\"\n",
    "    Compute IoU performance of the model on the given dataset\n",
    "    \"\"\"\n",
    "    # TODO\n",
    "\n",
    "def compute_accuracy_detection(model, loader, preprocessor):\n",
    "    \"\"\"\n",
    "    Compute accuracy performance of the model on the given dataset\n",
    "    \"\"\"\n",
    "   # tODO"
   ]
  },
  {
   "cell_type": "code",
   "execution_count": null,
   "metadata": {},
   "outputs": [],
   "source": []
  }
 ],
 "metadata": {
  "kernelspec": {
   "display_name": "INF265",
   "language": "python",
   "name": "python3"
  },
  "language_info": {
   "codemirror_mode": {
    "name": "ipython",
    "version": 3
   },
   "file_extension": ".py",
   "mimetype": "text/x-python",
   "name": "python",
   "nbconvert_exporter": "python",
   "pygments_lexer": "ipython3",
   "version": "3.12.8"
  }
 },
 "nbformat": 4,
 "nbformat_minor": 2
}
