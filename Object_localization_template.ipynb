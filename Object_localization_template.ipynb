{
 "cells": [
  {
   "cell_type": "code",
   "execution_count": null,
   "metadata": {},
   "outputs": [],
   "source": [
    "import torch\n",
    "import matplotlib.pyplot as plt\n",
    "from src.models.localization.cnn_localizer import CNNLocalizer\n",
    "from src.util.loss_funcs import localization_loss\n",
    "from src.util.transform_dataset import TransformDataset, get_transform\n",
    "from src.util.shrunkDataLoader import ShrunkDataLoader\n",
    "from itertools import product\n",
    "from src.models.localization import (\n",
    "    cnn_network_1,\n",
    "    cnn_network_2,\n",
    "    resnet,\n",
    ")"
   ]
  },
  {
   "cell_type": "markdown",
   "metadata": {},
   "source": [
    "# Setup and constants\n"
   ]
  },
  {
   "cell_type": "code",
   "execution_count": null,
   "metadata": {},
   "outputs": [],
   "source": [
    "torch.manual_seed(123)\n",
    "torch.set_default_dtype(torch.float32)  # for mps\n",
    "batch_size = 128"
   ]
  },
  {
   "cell_type": "markdown",
   "metadata": {},
   "source": [
    "# Performance metric computation\n"
   ]
  },
  {
   "cell_type": "code",
   "execution_count": null,
   "metadata": {},
   "outputs": [],
   "source": [
    "def intersection(bb1, bb2):\n",
    "    left = max(bb1[0] - bb1[2] / 2, bb2[0] - bb2[2] / 2)\n",
    "    right = min(bb1[0] + bb1[2] / 2, bb2[0] + bb2[2] / 2)\n",
    "    top = max(bb1[1] - bb1[3] / 2, bb2[1] - bb2[3] / 2)\n",
    "    bot = min(bb1[1] + bb1[3] / 2, bb2[1] + bb2[3] / 2)\n",
    "\n",
    "    if left >= right or top >= bot:\n",
    "        return 0\n",
    "\n",
    "    width = right - left\n",
    "    height = bot - top\n",
    "\n",
    "    return width * height\n",
    "\n",
    "\n",
    "def IoU(bb1, bb2):\n",
    "    intersect_area = intersection(bb1, bb2)\n",
    "    return intersect_area / (bb1[2] * bb1[3] + bb2[2] * bb2[3] - intersect_area)\n",
    "\n",
    "\n",
    "def compute_IoU_localization(model, loader):\n",
    "    \"\"\"\n",
    "    Compute IoU performance of the model on the given dataset\n",
    "    \"\"\"\n",
    "    IoU_scores = []\n",
    "    for images, labels in loader:\n",
    "        out = model.predict(images)\n",
    "        for pred, target in zip(out, labels):\n",
    "            bb1 = pred[1:5]\n",
    "            bb2 = target[1:5]\n",
    "            IoU_scores.append(IoU(bb1, bb2) if target[0] else pred[0] == False)\n",
    "\n",
    "    return torch.mean(torch.Tensor(IoU_scores))\n",
    "\n",
    "\n",
    "def compute_accuracy_localization(model, loader):\n",
    "    \"\"\"\n",
    "    Compute accuracy of the model on the given dataset\n",
    "    \"\"\"\n",
    "    accuracy_scores = []\n",
    "    for images, labels in loader:\n",
    "        out = model.predict(images)\n",
    "        for pred, target in zip(out, labels):\n",
    "            accuracy_scores.append(\n",
    "                pred[5] == target[5]\n",
    "                and pred[0] == target[0]\n",
    "                or not target[0]\n",
    "                and not pred[0]\n",
    "            )\n",
    "\n",
    "    return torch.mean(torch.Tensor(accuracy_scores))"
   ]
  },
  {
   "cell_type": "markdown",
   "metadata": {},
   "source": [
    "# Data loading and preprocessing\n"
   ]
  },
  {
   "cell_type": "code",
   "execution_count": null,
   "metadata": {},
   "outputs": [],
   "source": [
    "train = torch.load(\"data/localization_train.pt\", weights_only=False)\n",
    "print(train.tensors[0].shape)\n",
    "train_transform = get_transform(train.tensors[0])\n",
    "train = TransformDataset(train, train_transform)\n",
    "\n",
    "val = torch.load(\"data/localization_val.pt\", weights_only=False)\n",
    "print(val.tensors[0].shape)\n",
    "val = TransformDataset(val, train_transform)\n",
    "\n",
    "test = torch.load(\"data/localization_test.pt\", weights_only=False)\n",
    "print(test.tensors[0].shape)\n",
    "test = TransformDataset(test, train_transform)\n",
    "\n",
    "\n",
    "# TODO seed data loaders\n",
    "train_loader = torch.utils.data.DataLoader(train, batch_size=batch_size, shuffle=False)\n",
    "val_loader = torch.utils.data.DataLoader(val, batch_size=batch_size, shuffle=False)\n",
    "test_loader = torch.utils.data.DataLoader(test, batch_size=batch_size, shuffle=False)"
   ]
  },
  {
   "cell_type": "markdown",
   "metadata": {},
   "source": [
    "# Model training and selection\n"
   ]
  },
  {
   "cell_type": "code",
   "execution_count": null,
   "metadata": {},
   "outputs": [],
   "source": [
    "def grid_search(params, train_loader, val_loader):\n",
    "    models = {}\n",
    "    max_epochs = 300\n",
    "\n",
    "    for learning_rate, weight_decay, momentum, network in product(\n",
    "        params[\"learning_rates\"],\n",
    "        params[\"weight_decays\"],\n",
    "        params[\"momentums\"],\n",
    "        params[\"networks\"],\n",
    "    ):\n",
    "        print(f\"Starting training for:\")\n",
    "        print(f\"Network: {network}\")\n",
    "        print(f\"Learning rate: {learning_rate}\")\n",
    "        print(f\"Weight decay: {weight_decay}\")\n",
    "        print(f\"Momentum: {momentum}\")\n",
    "\n",
    "        model = CNNLocalizer(\n",
    "            loss_fn=localization_loss,\n",
    "            learning_rate=learning_rate,\n",
    "            max_epochs=max_epochs,\n",
    "            network=network,\n",
    "            weight_decay=weight_decay,\n",
    "            momentum=momentum,\n",
    "        )\n",
    "        model.fit(train_loader, val_loader)\n",
    "\n",
    "        IoU_score = compute_IoU_localization(model, val_loader)\n",
    "        accuracy_score = compute_accuracy_localization(model, val_loader)\n",
    "\n",
    "        print(f\"IoU score: {IoU_score}\")\n",
    "        print(f\"Accuracy score: {accuracy_score}\")\n",
    "        models[model] = (IoU_score + accuracy_score) / 2\n",
    "\n",
    "    best_model = max(models, key=models.get)\n",
    "\n",
    "    return best_model, models[best_model]"
   ]
  },
  {
   "cell_type": "markdown",
   "metadata": {},
   "source": [
    "### Hyper params\n"
   ]
  },
  {
   "cell_type": "code",
   "execution_count": null,
   "metadata": {},
   "outputs": [],
   "source": [
    "params = {\n",
    "    \"learning_rates\": [1e-3, 1e-4, 1e-5],\n",
    "    \"weight_decays\": [1e-2, 0],\n",
    "    \"momentums\": [0.8, 0.9],\n",
    "    \"networks\": [\n",
    "        cnn_network_1.CNN1,\n",
    "        cnn_network_2.CNN2,\n",
    "        resnet.ResNet18Localization,\n",
    "    ],\n",
    "}"
   ]
  },
  {
   "cell_type": "markdown",
   "metadata": {},
   "source": [
    "### Architechture Selection\n"
   ]
  },
  {
   "cell_type": "code",
   "execution_count": null,
   "metadata": {},
   "outputs": [],
   "source": [
    "shrunken_train_loader = ShrunkDataLoader(train_loader, fraction=0.4)\n",
    "\n",
    "best_model, val_score = grid_search(params, shrunken_train_loader, val_loader)\n",
    "best_architechture = best_model.get_params()[\"network\"]\n",
    "print(\n",
    "    f\"Best architechture: {best_architechture.__name__}\\nvalidation score: {val_score}\"\n",
    ")\n",
    "params[\"networks\"] = [best_architechture]"
   ]
  },
  {
   "cell_type": "markdown",
   "metadata": {},
   "source": [
    "### Hyper parameter tuning & model selction\n"
   ]
  },
  {
   "cell_type": "code",
   "execution_count": null,
   "metadata": {},
   "outputs": [],
   "source": [
    "best_model, val_score = grid_search(params, train_loader, val_loader)\n",
    "print(f\"Best model: {best_model.get_params()}\\nvalidation score: {val_score}\")"
   ]
  },
  {
   "cell_type": "code",
   "execution_count": null,
   "metadata": {},
   "outputs": [],
   "source": [
    "test_IoU_score = compute_IoU_localization(best_model, test_loader)\n",
    "test_accuracy_score = compute_accuracy_localization(best_model, test_loader)\n",
    "test_score = (test_IoU_score + test_accuracy_score) / 2\n",
    "\n",
    "print(\"Model performance on unseen data:\")\n",
    "print(f\"IoU score: {test_IoU_score}\")\n",
    "print(f\"Accuracy score: {test_accuracy_score}\")\n",
    "print(f\"Combined score: {test_score}\")"
   ]
  },
  {
   "cell_type": "markdown",
   "metadata": {},
   "source": [
    "### Visualization\n"
   ]
  },
  {
   "cell_type": "code",
   "execution_count": null,
   "metadata": {},
   "outputs": [],
   "source": [
    "def draw(img, out, target):\n",
    "    po, xo, yo, wo, ho = out[0:5]\n",
    "    pt, xt, yt, wt, ht = target[0:5]\n",
    "    fig, ax = plt.subplots()\n",
    "\n",
    "    img = img.squeeze(0).numpy()\n",
    "    ax.imshow(img, cmap=\"gray\")\n",
    "    ax.axis(\"off\")\n",
    "\n",
    "    rectOut = plt.Rectangle(\n",
    "        ((xo - wo / 2) * 60, (yo - ho / 2) * 48),\n",
    "        wo * 60,\n",
    "        ho * 48,\n",
    "        linewidth=3,\n",
    "        edgecolor=\"r\",\n",
    "        facecolor=\"none\",\n",
    "    )\n",
    "    rectTarget = plt.Rectangle(\n",
    "        ((xt - wt / 2) * 60, (yt - ht / 2) * 48),\n",
    "        wt * 60,\n",
    "        ht * 48,\n",
    "        linewidth=3,\n",
    "        edgecolor=\"g\",\n",
    "        facecolor=\"none\",\n",
    "    )\n",
    "\n",
    "    if po > 0:\n",
    "        ax.add_patch(rectOut)\n",
    "    ax.add_patch(rectTarget)\n",
    "    ax.text(\n",
    "        0,\n",
    "        53,\n",
    "        f\"Predicted — pc: {out[0]}, x: {out[1]}, y: {out[2]}, w: {out[3]}, h: {out[4]}, class: {out[5]}\\nTarget — pc: {target[0]}, x: {target[1]}, y: {target[2]}, w: {target[3]}, h: {target[4]}, class: {target[5]}\",\n",
    "    )"
   ]
  },
  {
   "cell_type": "code",
   "execution_count": null,
   "metadata": {},
   "outputs": [],
   "source": [
    "images, labels = next(iter(test_loader))\n",
    "outs = best_model.predict(images).cpu()\n",
    "for i in range(20):\n",
    "    draw(images[i], outs[i], labels[i])"
   ]
  }
 ],
 "metadata": {
  "kernelspec": {
   "display_name": "ML",
   "language": "python",
   "name": "python3"
  },
  "language_info": {
   "codemirror_mode": {
    "name": "ipython",
    "version": 3
   },
   "file_extension": ".py",
   "mimetype": "text/x-python",
   "name": "python",
   "nbconvert_exporter": "python",
   "pygments_lexer": "ipython3",
   "version": "3.12.2"
  }
 },
 "nbformat": 4,
 "nbformat_minor": 2
}
